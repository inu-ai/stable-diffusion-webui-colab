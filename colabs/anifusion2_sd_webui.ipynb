{
  "cells": [
    {
      "cell_type": "markdown",
      "metadata": {
        "id": "urkXwu2KwQn0"
      },
      "source": [
        "It runs and moves in order from the top.\n",
        "Settings include model changes.\n",
        ">上から順に実行して動きます。\n",
        ">設定はモデル変更などがあります。"
      ]
    },
    {
      "cell_type": "markdown",
      "metadata": {
        "id": "gfKvWAVnz8OB"
      },
      "source": [
        "Adapted from（参考元）: \n",
        "\n",
        "https://gist.github.com/enryu43/fccaa7f165ffcb214780d203c565761f\n",
        "\n",
        "https://github.com/camenduru/stable-diffusion-webui-colab/"
      ]
    },
    {
      "cell_type": "code",
      "execution_count": null,
      "metadata": {
        "cellView": "form",
        "id": "16QDU4TlVmkt"
      },
      "outputs": [],
      "source": [
        "#@title Clone webUI repository, etc.（webUIリポジトリのクローンなど）\n",
        "!pip install -q https://github.com/camenduru/stable-diffusion-webui-colab/releases/download/0.0.15/xformers-0.0.15.dev0+189828c.d20221207-cp38-cp38-linux_x86_64.whl\n",
        "\n",
        "# install torch with CUDA support. See https://pytorch.org/get-started/locally/ for more instructions if this fails.\n",
        "!pip install torch torchvision --extra-index-url https://download.pytorch.org/whl/cu116\n",
        "\n",
        "# check if torch supports GPU; this must output \"True\". You need CUDA 11. installed for this. You might be able to use\n",
        "# a different version, but this is what I tested.\n",
        "!python -c \"import torch; print(torch.cuda.is_available())\"\n",
        "\n",
        "# clone web ui and go into its directory\n",
        "!git clone https://github.com/enryu43/anifusion2-sd-webui.git\n",
        "%cd anifusion2-sd-webui\n",
        "\n",
        "!wget -q https://raw.githubusercontent.com/thx-pw/stable-diffusion-webui-colab/main/styles.csv\n",
        "\n",
        "!mkdir repositories\n",
        "!git clone https://github.com/enryu43/anifusion-stable-diffusion2.git repositories/stable-diffusion\n",
        "!git clone https://github.com/CompVis/taming-transformers.git repositories/taming-transformers\n",
        "\n",
        "# install requirements of Stable Diffusion\n",
        "!pip install transformers==4.19.2 diffusers invisible-watermark --prefer-binary\n",
        "\n",
        "# install k-diffusion\n",
        "!pip install git+https://github.com/crowsonkb/k-diffusion.git --prefer-binary\n",
        "\n",
        "# install requirements of web ui\n",
        "!pip install -r requirements.txt  --prefer-binary\n",
        "# It is not really needed, but is imported in SD code.\n",
        "!pip install open-clip-torch invisible-watermark\n",
        "\n",
        "# update numpy to latest version\n",
        "!pip install -U numpy  --prefer-binary\n",
        "\n",
        "#!wget https://huggingface.co/enryu43/anifusion_sd_unet/resolve/main/original_ckpt.bin -O model.ckpt\n",
        "# Alternatively, for 768x768 model:\n",
        "!wget https://huggingface.co/enryu43/anifusion_sd_unet_768/resolve/main/original_ckpt.bin -O model.ckpt\n",
        "\n",
        "# Finally, start the UI\n",
        "import os\n",
        "os.kill(os.getpid(), 9)"
      ]
    },
    {
      "cell_type": "code",
      "execution_count": null,
      "metadata": {
        "cellView": "form",
        "id": "L3cZOhuQXE7G"
      },
      "outputs": [],
      "source": [
        "#@title Launch the webUI.（webUIの起動）\n",
        "%cd anifusion2-sd-webui\n",
        "\n",
        "username = \"user\" #@param {type:\"string\"}\n",
        "password = \"pass\" #@param {type:\"string\"}\n",
        "\n",
        "!python webui.py --listen --share --gradio-auth \"{username}:{password}\""
      ]
    },
    {
      "cell_type": "code",
      "execution_count": null,
      "metadata": {
        "cellView": "form",
        "id": "gBt5g_Dn0NFo"
      },
      "outputs": [],
      "source": [
        "#@title Save to zip file with same password as cell above. （上のセルと同じパスワードでzipファイルに保存）\n",
        "\n",
        "%cd /content/anifusion2-sd-webui\n",
        "!zip -er --password={password} outputs.zip outputs "
      ]
    },
    {
      "cell_type": "code",
      "execution_count": null,
      "metadata": {
        "cellView": "form",
        "id": "zNEgJfbhDwI6"
      },
      "outputs": [],
      "source": [
        "#@title Save the zip file to Google Drive. （Google Driveにzipファイルを保存）\n",
        "from google.colab import drive \n",
        "drive_path = \"/content/drive\"\n",
        "drive.mount(drive_path, force_remount=False)\n",
        "\n",
        "!cp \"/content/anifusion2-sd-webui/outputs.zip\" \"/content/drive/MyDrive\""
      ]
    }
  ],
  "metadata": {
    "accelerator": "GPU",
    "colab": {
      "private_outputs": true,
      "provenance": []
    },
    "gpuClass": "standard",
    "kernelspec": {
      "display_name": "Python 3",
      "name": "python3"
    },
    "language_info": {
      "name": "python"
    }
  },
  "nbformat": 4,
  "nbformat_minor": 0
}
