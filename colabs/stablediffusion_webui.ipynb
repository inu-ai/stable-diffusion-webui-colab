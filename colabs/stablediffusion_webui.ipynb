{
  "cells": [
    {
      "cell_type": "markdown",
      "metadata": {
        "id": "urkXwu2KwQn0"
      },
      "source": [
        "It runs and moves in order from the top.\n",
        "Settings include model changes.\n",
        ">上から順に実行して動きます。\n",
        ">設定はモデル変更などがあります。"
      ]
    },
    {
      "cell_type": "markdown",
      "metadata": {
        "id": "gfKvWAVnz8OB"
      },
      "source": [
        "Adapted from（参考元）: \n",
        "\n",
        "https://colab.research.google.com/github/TheLastBen/fast-stable-diffusion/blob/main/fast_stable_diffusion_AUTOMATIC1111.ipynb"
      ]
    },
    {
      "cell_type": "code",
      "execution_count": null,
      "metadata": {
        "cellView": "form",
        "id": "sBbcB4vwj_jm"
      },
      "outputs": [],
      "source": [
        "#@title Clone webUI repository.（webUIリポジトリのクローン）\n",
        "!git clone https://github.com/AUTOMATIC1111/stable-diffusion-webui --quiet\n",
        "%cd /content/stable-diffusion-webui\n",
        "\n",
        "!git clone https://github.com/AUTOMATIC1111/stable-diffusion-webui-aesthetic-gradients extensions/stable-diffusion-webui-aesthetic-gradients --quiet\n",
        "!git clone https://github.com/thx-pw/stable-diffusion-webui-models_downloader extensions/stable-diffusion-webui-models_downloader --quiet\n",
        "\n",
        "!git clone https://github.com/AUTOMATIC1111/stable-diffusion-webui-old-localizations extensions/stable-diffusion-webui-old-localizations --quiet\n",
        "!git clone https://github.com/dtlnor/stable-diffusion-webui-localization-zh_CN extensions/stable-diffusion-webui-localization-zh_CN --quiet\n",
        "!git clone https://github.com/benlisquare/stable-diffusion-webui-localization-zh_TW extensions/stable-diffusion-webui-localization-zh_TW --quiet\n",
        "!git clone https://github.com/36DB/stable-diffusion-webui-localization-ko_KR extensions/stable-diffusion-webui-localization-ko_KR --quiet\n",
        "!git clone https://github.com/innovaciones/stable-diffusion-webui-localization-es_ES extensions/stable-diffusion-webui-localization-es_ES --quiet\n",
        "!git clone https://github.com/Harvester62/stable-diffusion-webui-localization-it_IT extensions/stable-diffusion-webui-localization-it_IT --quiet\n",
        "!git clone https://github.com/Strothis/stable-diffusion-webui-de_DE extensions/stable-diffusion-webui-de_DE --quiet\n",
        "!git clone https://github.com/Katsuyuki-Karasawa/stable-diffusion-webui-localization-ja_JP extensions/stable-diffusion-webui-localization-ja_JP --quiet\n",
        "!git clone https://github.com/M-art-ucci/stable-diffusion-webui-localization-pt_BR extensions/stable-diffusion-webui-localization-pt_BR --quiet\n",
        "!git clone https://github.com/camenduru/stable-diffusion-webui-localization-tr_TR extensions/stable-diffusion-webui-localization-tr_TR --quiet\n",
        "!git clone https://github.com/Cyanz83/stable-diffusion-webui-localization-no_NO extensions/stable-diffusion-webui-localization-no_NO --quiet"
      ]
    },
    {
      "cell_type": "code",
      "execution_count": null,
      "metadata": {
        "cellView": "form",
        "id": "CT_J9L7oqLxG"
      },
      "outputs": [],
      "source": [
        "#@title Download the model from Hugging Face.（Hugging Faceからモデルをダウンロード）\n",
        "\n",
        "models_dict = {\n",
        "  \"None\" : \"\",\n",
        "  \"stable-v20-768\" : \"https://huggingface.co/stabilityai/stable-diffusion-2/blob/main/768-v-ema.ckpt\",\n",
        "  \"trinart-derrida_final\" : \"https://huggingface.co/naclbit/trinart_derrida_characters_v2_stable_diffusion/blob/main/derrida_final.ckpt\",\n",
        "  \"trinart-characters-19m\" : \"https://huggingface.co/naclbit/trinart_characters_19.2m_stable_diffusion_v1/blob/main/trinart_characters_it4_v1.ckpt\",\n",
        "  \"waifu-v13-float16\" : \"https://huggingface.co/hakurei/waifu-diffusion-v1-3/blob/main/wd-v1-3-float16.ckpt\",\n",
        "  \"stable-v15\" : \"https://huggingface.co/runwayml/stable-diffusion-v1-5/blob/main/v1-5-pruned-emaonly.ckpt\",\n",
        "  \"stable-v15-inpainting\" : \"https://huggingface.co/runwayml/stable-diffusion-inpainting/blob/main/sd-v1-5-inpainting.ckpt\",\n",
        "}\n",
        "\n",
        "vaes_dict = {\n",
        "  \"None\" : \"\",\n",
        "  \"trinart-derrida_final\" : \"https://huggingface.co/naclbit/trinart_derrida_characters_v2_stable_diffusion/blob/main/autoencoder_fix_kl-f8-trinart_characters.ckpt\",\n",
        "  \"trinart-characters-19m\" : \"https://huggingface.co/naclbit/trinart_characters_19.2m_stable_diffusion_v1/blob/main/autoencoder_fix_kl-f8-trinart_characters.ckpt\",\n",
        "  \"waifu-v14-anime2\" : \"https://huggingface.co/hakurei/waifu-diffusion-v1-4/blob/main/vae/kl-f8-anime2.ckpt\",\n",
        "  \"sd-vae-ft-mse\" : \"https://huggingface.co/stabilityai/sd-vae-ft-mse-original/blob/main/vae-ft-mse-840000-ema-pruned.ckpt\",\n",
        "}\n",
        "\n",
        "#@markdown get a token from Hugging Face. https://huggingface.co/settings/tokens （Hugging Faceからトークンを取得）\n",
        "user_token = \"\" #@param {type:\"string\"}\n",
        "model = \"trinart-derrida_final\" #@param ['None', 'stable-v20-768', 'trinart-derrida_final', 'trinart-characters-19m', 'waifu-v13-float16', 'stable-v15', 'stable-v15-inpainting']\n",
        "vae = \"trinart-derrida_final\" #@param ['None', 'trinart-derrida_final', 'trinart-characters-19m', 'waifu-v14-anime2', 'sd-vae-ft-mse']\n",
        "if user_token != \"\":\n",
        "  user_header = f\"\\\"Authorization: Bearer {user_token}\\\"\"\n",
        "else:\n",
        "  user_header = \"\"\n",
        "\n",
        "def resolve_raw_url(url):\n",
        "  url = url.replace(\"/blob/\", \"/resolve/\")\n",
        "  return url\n",
        "\n",
        "if model != 'None':\n",
        "  model_url = resolve_raw_url(models_dict[model])\n",
        "  !wget --header={user_header} {model_url} -O /content/stable-diffusion-webui/models/Stable-diffusion/{model}.ckpt\n",
        "\n",
        "if model == 'stable-v20-768':\n",
        "  !wget \"https://raw.githubusercontent.com/Stability-AI/stablediffusion/main/configs/stable-diffusion/v2-inference-v.yaml\" -O /content/stable-diffusion-webui/models/Stable-diffusion/{model}.yaml\n",
        "\n",
        "if vae != 'None':\n",
        "  vae_url = resolve_raw_url(vaes_dict[vae])\n",
        "  !wget --header={user_header} {vae_url} -O /content/stable-diffusion-webui/models/VAE/{vae}.vae.pt\n",
        "\n",
        "!wget -q https://raw.githubusercontent.com/thx-pw/stable-diffusion-webui-colab/main/styles.csv -O /content/stable-diffusion-webui/styles.csv\n",
        "\n",
        "localization = \"ja_JP\" #@param ['None', 'ar_AR', 'de_DE', 'es_ES', 'fr-FR', 'it_IT', 'ja_JP', 'ko_KR', 'no_NO', 'pt_BR', 'ru_RU', 'tr_TR', 'zh_CN', 'zh_TW']\n",
        "!echo '{\"localization\":' > \"/content/stable-diffusion-webui/config.json\"\n",
        "!echo '\"'{localization}'\"' >> \"/content/stable-diffusion-webui/config.json\"\n",
        "!echo '}' >> \"/content/stable-diffusion-webui/config.json\""
      ]
    },
    {
      "cell_type": "code",
      "execution_count": null,
      "metadata": {
        "cellView": "form",
        "id": "EpphvH4Hubl_"
      },
      "outputs": [],
      "source": [
        "#@title Download the model from Google Drive.（Google Driveからモデルをダウンロード）\n",
        "\n",
        "import os\n",
        "import glob\n",
        "from google.colab import drive # type: ignore\n",
        "\n",
        "use_google_drive = False #@param {type:\"boolean\"}\n",
        "sd_webui_gdrive = \"/content/drive/MyDrive/sd/stable-diffusion-webui\" #@param {type:\"string\"}\n",
        "sd_webui_colab = \"/content/stable-diffusion-webui\"\n",
        "\n",
        "create_directory_gdrive = False #@param {type:\"boolean\"}\n",
        "#@markdown Find and copy the following files from the stable-diffusion-webui(sd_webui_gdrive) directory.\n",
        "#@markdown > stable-diffusion-webui(sd_webui_gdrive)ディレクトリから以下のファイルを見つけてコピーします。\n",
        "\n",
        "#@markdown + models/Stable-diffusion/\\*.ckpt\n",
        "#@markdown + models/VAE/\\*.ckpt\n",
        "#@markdown + models/VAE/\\*.pt\n",
        "#@markdown + models/Stable-diffusion/\\*.vae.ckpt\n",
        "#@markdown + models/Stable-diffusion/\\*.vae.pt\n",
        "#@markdown + embeddings/\\*.pt\n",
        "#@markdown + embeddings/\\*.bin\n",
        "#@markdown + models/hypernetworks/*.pt\n",
        "#@markdown + extensions/aesthetic-gradients/aesthetic_embeddings/*.pt\n",
        "#@markdown + styles.csv\n",
        "#@markdown + config.json\n",
        "#@markdown + ui-config.json\n",
        "#@markdown + /content/drive/MyDrive/model.ckpt\n",
        "#@markdown + /content/drive/MyDrive/AI/models/*.ckpt\n",
        "\n",
        "model_checkpoints = \"models/Stable-diffusion\"\n",
        "model_model_vaes = \"models/Stable-diffusion\"\n",
        "model_vae_vaes = \"models/VAE\"\n",
        "textual_inversion_embeddings = \"embeddings\"\n",
        "hypernetworks = \"models/hypernetworks\"\n",
        "aesthetic_embeddings = \"extensions/aesthetic-gradients/aesthetic_embeddings\"\n",
        "config_list = [\"styles.csv\", \"config.json\", \"ui-config.json\"]\n",
        "\n",
        "model_checkpoints_gdrive = os.path.join(sd_webui_gdrive, model_checkpoints)\n",
        "model_model_vaes_gdrive = os.path.join(sd_webui_gdrive, model_model_vaes)\n",
        "model_vae_vaes_gdrive = os.path.join(sd_webui_gdrive, model_vae_vaes)\n",
        "textual_inversion_embeddings_gdrive = os.path.join(sd_webui_gdrive, textual_inversion_embeddings)\n",
        "hypernetworks_gdrive = os.path.join(sd_webui_gdrive, hypernetworks)\n",
        "aesthetic_embeddings_gdrive = os.path.join(sd_webui_gdrive, aesthetic_embeddings)\n",
        "\n",
        "model_checkpoints_colab = os.path.join(sd_webui_colab, model_checkpoints)\n",
        "model_model_vaes_colab = os.path.join(sd_webui_colab, model_model_vaes)\n",
        "model_vae_vaes_colab = os.path.join(sd_webui_colab, model_vae_vaes)\n",
        "textual_inversion_embeddings_colab = os.path.join(sd_webui_colab, textual_inversion_embeddings)\n",
        "hypernetworks_colab = os.path.join(sd_webui_colab, hypernetworks)\n",
        "aesthetic_embeddings_colab = os.path.join(sd_webui_colab, aesthetic_embeddings)\n",
        "\n",
        "if use_google_drive:\n",
        "  drive.mount(\"/content/drive\")\n",
        "\n",
        "  ckpt_path = \"/content/drive/MyDrive/model.ckpt\"\n",
        "  if os.path.exists(ckpt_path):\n",
        "    !cp {ckpt_path} {model_checkpoints_colab}\n",
        "  for model_checkpoint in glob.glob(f\"/content/drive/MyDrive/AI/models/*.ckpt\"):\n",
        "    !cp {model_checkpoint} {model_checkpoints_colab}\n",
        " \n",
        "  for config in config_list:\n",
        "    config_gdrive = os.path.join(sd_webui_gdrive, config)\n",
        "    if os.path.exists(config_gdrive):\n",
        "      !cp {config_gdrive} {sd_webui_colab}\n",
        "\n",
        "  if create_directory_gdrive:\n",
        "    os.makedirs(model_checkpoints_gdrive, exist_ok=True)\n",
        "    os.makedirs(model_model_vaes_gdrive, exist_ok=True)\n",
        "    os.makedirs(model_vae_vaes_gdrive, exist_ok=True)\n",
        "    os.makedirs(textual_inversion_embeddings_gdrive, exist_ok=True)\n",
        "    os.makedirs(hypernetworks_gdrive, exist_ok=True)\n",
        "    os.makedirs(aesthetic_embeddings_gdrive, exist_ok=True)\n",
        "  os.makedirs(hypernetworks_colab, exist_ok=True)\n",
        "\n",
        "  for model_checkpoint in glob.glob(f\"{model_checkpoints_gdrive}/*.ckpt\"):\n",
        "    !cp {model_checkpoint} {model_checkpoints_colab}\n",
        "\n",
        "  files = glob.glob(f\"{model_model_vaes_gdrive}/*.vae.ckpt\")\n",
        "  files.extend(glob.glob(f\"{model_model_vaes_gdrive}/*.vae.pt\"))\n",
        "  for model_vae in files:\n",
        "    !cp {model_vae} {model_model_vaes_colab}\n",
        "    \n",
        "  files = glob.glob(f\"{model_vae_vaes_gdrive}/*.ckpt\")\n",
        "  files.extend(glob.glob(f\"{model_vae_vaes_gdrive}/*.pt\"))\n",
        "  for model_vae in files:\n",
        "    !cp {model_vae} {model_vae_vaes_colab}\n",
        "\n",
        "  files = glob.glob(f\"{textual_inversion_embeddings_gdrive}/*.pt\")\n",
        "  files.extend(glob.glob(f\"{textual_inversion_embeddings_gdrive}/*.bin\"))\n",
        "  for textual_inversion_embedding in files:\n",
        "    !cp {textual_inversion_embedding} {textual_inversion_embeddings_colab}\n",
        "\n",
        "  for hypernetwork in glob.glob(f\"{hypernetworks_gdrive}/*.pt\"):\n",
        "    !cp {hypernetwork} {hypernetworks_colab}\n",
        "    \n",
        "  for aesthetic_embedding in glob.glob(f\"{aesthetic_embeddings_gdrive}/*.pt\"):\n",
        "    !cp {aesthetic_embedding} {aesthetic_embeddings_colab}\n",
        "   "
      ]
    },
    {
      "cell_type": "code",
      "execution_count": null,
      "metadata": {
        "cellView": "form",
        "id": "xzGnq4uoi__n"
      },
      "outputs": [],
      "source": [
        "#@title Installing Requirements from https://colab.research.google.com/github/TheLastBen/fast-stable-diffusion/blob/main/fast_stable_diffusion_AUTOMATIC1111.ipynb\n",
        "!COMMANDLINE_ARGS=\"--exit\" REQS_FILE=\"requirements.txt\" python launch.py\n",
        "\n",
        "!git clone https://github.com/timojl/clipseg repositories/clipseg\n",
        "!wget -q -O scripts/txt2mask.py https://raw.githubusercontent.com/ThereforeGames/txt2mask/main/scripts/txt2mask.py\n",
        "!wget -q -O scripts/moisaic.py https://raw.githubusercontent.com/Pfaeff/sd-web-ui-scripts/main/moisaic.py\n",
        "\n",
        "!wget -q https://github.com/TheLastBen/fast-stable-diffusion/raw/main/Dependencies/Dependencies_AUT.1\n",
        "!wget -q https://github.com/TheLastBen/fast-stable-diffusion/raw/main/Dependencies/Dependencies_AUT.2\n",
        "!mv Dependencies_AUT.1 Dependencies_AUT.7z.001\n",
        "!mv Dependencies_AUT.2 Dependencies_AUT.7z.002\n",
        "!7z x Dependencies_AUT.7z.001\n",
        "\n",
        "!cp -r ./usr/local/lib/python3.7/dist-packages /usr/local/lib/python3.7/\n",
        "!rm -r ./usr\n",
        "!rm Dependencies_AUT.7z.001\n",
        "!rm Dependencies_AUT.7z.002\n",
        "  \n",
        "!wget -q -O repositories/stable-diffusion/ldm/modules/attention.py https://raw.githubusercontent.com/TheLastBen/fast-stable-diffusion/main/precompiled/attention.py\n",
        "\n",
        "!pip install -q gradio==3.9\n",
        "!pip install -q scikit-image --upgrade\n",
        "!pip install -q tensorflow tensorflow-io\n",
        "!pip install -q git+https://github.com/KichangKim/DeepDanbooru.git@edf73df4cdaeea2cf00e9ac08bd8a9026b7a7b26#egg=deepdanbooru\n",
        "!pip install -q inflection\n",
        "\n",
        "import time\n",
        "from re import search\n",
        "from subprocess import getoutput\n",
        "from IPython.display import clear_output\n",
        "\n",
        "def xformers() -> None:\n",
        "  smi_out = getoutput('nvidia-smi')\n",
        "  supported = search('(T4|P100|V100|A100|K80)', smi_out)\n",
        "\n",
        "  if not supported:\n",
        "    while True:\n",
        "      print(\"\\x1b[1;31mThe current GPU is not supported, try starting a new session.\\x1b[0m\")\n",
        "      time.sleep(5)\n",
        "  else:\n",
        "    supported = supported.group(0)\n",
        "\n",
        "  !pip install -q https://github.com/TheLastBen/fast-stable-diffusion/raw/main/precompiled/{supported}/xformers-0.0.13.dev0-py3-none-any.whl\n",
        "\n",
        "  clear_output()\n",
        "\n",
        "xformers()\n"
      ]
    },
    {
      "cell_type": "code",
      "execution_count": null,
      "metadata": {
        "cellView": "form",
        "id": "HnJ5Lgz1pRaP"
      },
      "outputs": [],
      "source": [
        "#@title Reboot and free RAM.（再起動してRAM解放）\n",
        "import os\n",
        "os.kill(os.getpid(), 9)"
      ]
    },
    {
      "cell_type": "code",
      "execution_count": null,
      "metadata": {
        "cellView": "form",
        "id": "R-xAdMA5wxXd"
      },
      "outputs": [],
      "source": [
        "#@title Launch the webUI.（webUIの起動）\n",
        "%cd '/content/stable-diffusion-webui'\n",
        "\n",
        "username = \"user\" #@param {type:\"string\"}\n",
        "password = \"pass\" #@param {type:\"string\"}\n",
        "tunnel = \"gradio\" #@param [\"ngrok\", \"gradio\"]\n",
        "#@markdown get a token from for ngrok. https://dashboard.ngrok.com/get-started/your-authtoken （ngrokからトークンを取得）\n",
        "ngrok_authtoken = \"\" #@param {type:\"string\"}\n",
        "ngrok_region = \"jp\" #@param [\"us\", \"eu\", \"au\", \"ap\", \"sa\", \"jp\", \"in\"]\n",
        "\n",
        "\n",
        "common_args = f\"--no-half-vae --enable-console-prompts --enable-insecure-extension-access --disable-safe-unpickle --update-check --deepdanbooru --gradio-auth {username}:{password}\"\n",
        "if tunnel == \"ngrok\":\n",
        "  !COMMANDLINE_ARGS=\"{common_args} --ngrok {ngrok_authtoken} --ngrok-region {ngrok_region}\" REQS_FILE=\"requirements.txt\" python launch.py\n",
        "else:\n",
        "  !COMMANDLINE_ARGS=\"{common_args} --share\" REQS_FILE=\"requirements.txt\" python launch.py\n"
      ]
    },
    {
      "cell_type": "code",
      "execution_count": null,
      "metadata": {
        "cellView": "form",
        "id": "gBt5g_Dn0NFo"
      },
      "outputs": [],
      "source": [
        "#@title Save to zip file with same password as cell above. （上のセルと同じパスワードでzipファイルに保存）\n",
        "\n",
        "%cd /content/stable-diffusion-webui\n",
        "!zip -er --password={password} outputs.zip outputs "
      ]
    },
    {
      "cell_type": "code",
      "execution_count": null,
      "metadata": {
        "cellView": "form",
        "id": "zNEgJfbhDwI6"
      },
      "outputs": [],
      "source": [
        "#@title Save the zip file to Google Drive. （Google Driveにzipファイルを保存）\n",
        "from google.colab import drive \n",
        "drive_path = \"/content/drive\"\n",
        "drive.mount(drive_path, force_remount=False)\n",
        "\n",
        "!cp \"/content/stable-diffusion-webui/outputs.zip\" \"/content/drive/MyDrive\""
      ]
    }
  ],
  "metadata": {
    "accelerator": "GPU",
    "colab": {
      "name": "stablediffusion_webui.ipynb",
      "private_outputs": true,
      "provenance": []
    },
    "gpuClass": "standard",
    "kernelspec": {
      "display_name": "Python 3.10.5 ('py')",
      "language": "python",
      "name": "python3"
    },
    "language_info": {
      "name": "python",
      "version": "3.10.5"
    },
    "vscode": {
      "interpreter": {
        "hash": "bf1b1065d27bb22442f87ae3151ef36acaf1bc99c988efe488d4a234ec420932"
      }
    }
  },
  "nbformat": 4,
  "nbformat_minor": 0
}
